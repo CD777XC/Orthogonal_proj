{
 "cells": [
  {
   "cell_type": "markdown",
   "id": "d13f5c15",
   "metadata": {},
   "source": [
    "# Orthogonal projection & inner product\n",
    "\n",
    "#### The project map :\n",
    "    1. Orthogonal projection onto high dimensional subspaces\n",
    "    2. Orthogonal projection onto 1D subspace\n",
    "This template allows you to create the vector and the matrix onto which you are projecting the vector"
   ]
  },
  {
   "cell_type": "markdown",
   "id": "ee782b2e",
   "metadata": {},
   "source": [
    "### Orthogonal projection onto N-dimension"
   ]
  },
  {
   "cell_type": "code",
   "execution_count": 11,
   "id": "f8c801b7",
   "metadata": {
    "scrolled": false
   },
   "outputs": [],
   "source": [
    "import numpy as np\n",
    "from numpy.linalg import inv as inv\n",
    "from numpy.testing import assert_allclose as allclose\n",
    "from numpy.testing import assert_array_almost_equal_nulp as equal"
   ]
  },
  {
   "cell_type": "code",
   "execution_count": 47,
   "id": "c57b0464",
   "metadata": {
    "scrolled": false
   },
   "outputs": [
    {
     "name": "stdout",
     "output_type": "stream",
     "text": [
      "What is the dimensionality of vector V? 3\n",
      "Enter the vector by order to x0 to x2\n",
      "v0: 6\n",
      "v1: 0\n",
      "v2: 0\n",
      "Is this [6. 0. 0.] your vector V? (y/n)y\n",
      "What is the dimensionality of the basis vectors matrix B? Write (N, D): 3, 2\n",
      "Input each of your matrix vectors:\n",
      "b0: 1\n",
      "b1: 1\n",
      "b2: 1\n",
      "b0: 0\n",
      "b1: 1\n",
      "b2: 2\n",
      "\n",
      "Is this:\n",
      "\n",
      "[[1. 0.]\n",
      " [1. 1.]\n",
      " [1. 2.]] \n",
      "\n",
      "your basis vector B? (y/n)y\n"
     ]
    },
    {
     "data": {
      "text/plain": [
       "'y'"
      ]
     },
     "execution_count": 47,
     "metadata": {},
     "output_type": "execute_result"
    }
   ],
   "source": [
    "#Prompt user for vector and basis vector\n",
    "\n",
    "# Vector v={v0, ..., vi}\n",
    "v_len = int(input(\"What is the dimensionality of vector V? \"))\n",
    "\n",
    "print(f\"Enter the vector by order to x0 to x{v_len-1}\")\n",
    "\n",
    "v = np.array([float(input(f\"v{i}: \")) for i in range(v_len)])\n",
    "\n",
    "check_v = input(f\"Is this {v} your vector V? (y/n)\").lower()\n",
    "\n",
    "\n",
    "#Basis vectors matrix B={b0, ..., bi}\n",
    "B_len = input(\"What is the dimensionality of the basis vectors matrix B? Write (N, D): \").split(\",\")\n",
    "\n",
    "N, D = B_len\n",
    "\n",
    "print(\"Input each of your matrix vectors:\")\n",
    "\n",
    "vectors = list()\n",
    "\n",
    "for i in range(int(D)):\n",
    "    B[i] = np.zeros(int(N))\n",
    "    for n in range(int(N)):\n",
    "        B[i][n] = float(input(f\"b{n}: \"))\n",
    "    vectors.append(B[i])\n",
    "    \n",
    "B = np.column_stack(vectors)\n",
    "    \n",
    "check_B = input(f\"\"\"\n",
    "Is this:\n",
    "\n",
    "{B} \n",
    "\n",
    "your basis vector B? (y/n)\"\"\").lower()\n",
    "\n",
    "check_B"
   ]
  },
  {
   "cell_type": "code",
   "execution_count": 46,
   "id": "73b0e45d",
   "metadata": {},
   "outputs": [],
   "source": [
    "#For test\n",
    "\n",
    "#1\n",
    "x = np.array([12, 0, 0])\n",
    "b1 = np.array([1, 1, 1])\n",
    "b2 = np.array([0, 1, 2])\n",
    "B = [b1, b2]\n",
    "B_matrix = np.column_stack(B)\n",
    "\n",
    "#2\n",
    "x = np.array([6, 0, 0])\n",
    "b1 = np.array([1, 1, 1])\n",
    "b2 = np.array([0, 1, 2])\n",
    "B = [b1, b2]\n",
    "B_matrix = np.column_stack(B)\n",
    "\n",
    "#3\n",
    "x = np.array([3, 2, 2])\n",
    "b1 = np.array([1, 0, 0])\n",
    "b2 = np.array([0, 1, 1])\n",
    "B = [b1, b2]\n",
    "B_matrix = np.column_stack(B)"
   ]
  },
  {
   "cell_type": "code",
   "execution_count": 48,
   "id": "a9f01347",
   "metadata": {},
   "outputs": [
    {
     "name": "stdout",
     "output_type": "stream",
     "text": [
      "\n",
      "Projected vector is: \n",
      "\n",
      "[[3.]\n",
      " [2.]\n",
      " [2.]]\n",
      "\n",
      "Projection matrix is: \n",
      "\n",
      "[[1.  0.  0. ]\n",
      " [0.  0.5 0.5]\n",
      " [0.  0.5 0.5]]\n",
      "\n",
      "Projection matrix rank is:\n",
      "\n",
      "[2]\n",
      "        \n"
     ]
    }
   ],
   "source": [
    "# Gram-Schmidt process \n",
    "\n",
    "def gram_schmidt(B):\n",
    "    \n",
    "    B_orthonormalized, _ = np.linalg.qr(B)\n",
    "    return B_orthonormalized\n",
    "\n",
    "#Projection\n",
    "\n",
    "def p(v, B):\n",
    "    #B @ inv(B.T @ B) @ B.T\n",
    "    if np.sqrt(np.sum(B.T @ B)) == 0 :\n",
    "        P = B @ inv(B.T @ B) @ B.T\n",
    "        P_v = (P @ v).reshape((-1, 1))\n",
    "    else : \n",
    "        B_norm = gram_schmidt(B)\n",
    "        P = B_norm @ inv(B_norm.T @ B_norm) @ B_norm.T\n",
    "        P_v = (P @ v).reshape((-1, 1))\n",
    "    \n",
    "    print(f\"\"\"\n",
    "Projected vector is: \n",
    "\n",
    "{P_v}\n",
    "\n",
    "Projection matrix is: \n",
    "\n",
    "{P}\n",
    "\n",
    "Projection matrix rank is:\n",
    "\n",
    "[{np.linalg.matrix_rank(P)}]\n",
    "        \"\"\")\n",
    "    \n",
    "    \n",
    "p(x, B_matrix)"
   ]
  },
  {
   "cell_type": "markdown",
   "id": "6a1dcf46",
   "metadata": {},
   "source": [
    "### Orthogonal projection in a 1D subspace"
   ]
  },
  {
   "cell_type": "code",
   "execution_count": 27,
   "id": "39ecca4e",
   "metadata": {},
   "outputs": [
    {
     "name": "stdout",
     "output_type": "stream",
     "text": [
      "What is the dimensionality of vector V? 3\n",
      "Enter the vector by order to x0 to x2\n",
      "0: 1\n",
      "1: 4\n",
      "2: 2\n",
      "Is this [1. 4. 2.] your vector V? (y/n)y\n",
      "What is the dimensionality of the basis vector B? 4\n",
      "Enter the vector by order to b0 to b3\n",
      "0: 2\n",
      "1: 1\n",
      "2: 1\n",
      "3: 3\n",
      "Is this [2. 1. 1. 3.] your basis vector B? (y/n)y\n",
      "The dimensions are not the same\n"
     ]
    }
   ],
   "source": [
    "#Prompt user for vector and basis vector\n",
    "\n",
    "# Vector v={v0, ..., vi}\n",
    "v_len = int(input(\"What is the dimensionality of vector V? \"))\n",
    "\n",
    "print(f\"Enter the vector by order to x0 to x{v_len-1}\")\n",
    "\n",
    "v = np.array([float(input(f\"v{i}: \")) for i in range(v_len)])\n",
    "\n",
    "check_v = input(f\"Is this {v} your vector V? (y/n)\").lower()\n",
    "\n",
    "\n",
    "#Basis vector B={b0, ..., bi}\n",
    "B_len = int(input(\"What is the dimensionality of the basis vector B? \"))\n",
    "\n",
    "print(f\"Enter the vector by order to b0 to b{B_len-1}\")\n",
    "\n",
    "B = np.array([float(input(f\"b{i}: \")) for i in range(B_len)])\n",
    "\n",
    "check_B = input(f\"Is this {B} your basis vector B? (y/n)\").lower()\n",
    "\n",
    "check_B\n",
    "\n",
    "if len(B) != len(v):\n",
    "    print(\"The dimensions are not the same\")"
   ]
  },
  {
   "cell_type": "code",
   "execution_count": 14,
   "id": "db64a338",
   "metadata": {},
   "outputs": [
    {
     "data": {
      "text/plain": [
       "array([[1, 2, 2],\n",
       "       [2, 4, 4],\n",
       "       [2, 4, 4]])"
      ]
     },
     "execution_count": 14,
     "metadata": {},
     "output_type": "execute_result"
    }
   ],
   "source": [
    "B = np.array([1, 2, 2])\n",
    "v = np.array([1, 1, 1])\n",
    "np.outer(B, B)"
   ]
  },
  {
   "cell_type": "code",
   "execution_count": 23,
   "id": "93cdccba",
   "metadata": {},
   "outputs": [
    {
     "name": "stdout",
     "output_type": "stream",
     "text": [
      "\n",
      "Projected vector is:\n",
      "\n",
      "[[1.15384615]\n",
      " [0.76923077]]\n",
      "\n",
      "Projection matrix is:\n",
      "\n",
      "[[0.69230769 0.46153846]\n",
      " [0.46153846 0.30769231]]\n",
      "\n",
      "Projection matrix rank is:\n",
      "\n",
      "[1]\n"
     ]
    }
   ],
   "source": [
    "def p(v, B):\n",
    "    N = len(B)\n",
    "    P = np.outer(B, B)\n",
    "    P /= np.sqrt(np.sum(B**2))**2\n",
    "    P_v = (P @ v).reshape((-1, 1))\n",
    "    print(f\"\"\"\n",
    "Projected vector is:\n",
    "\n",
    "{P_v}\n",
    "\n",
    "Projection matrix is:\n",
    "\n",
    "{P}\n",
    "\n",
    "Projection matrix rank is:\n",
    "\n",
    "[{np.linalg.matrix_rank(P)}]\"\"\")\n",
    "#     else: # On process\n",
    "#         B_norm = gram_schmidt(B)\n",
    "#         P = P = (B[:, N] * B.T) / (np.linalg.norm(B)**2)\n",
    "#         P_x = (P * x).reshape((-1, 1))\n",
    "#         print(P_x)\n",
    "        \n",
    "p(v, B)"
   ]
  },
  {
   "cell_type": "code",
   "execution_count": null,
   "id": "4c842c83",
   "metadata": {},
   "outputs": [],
   "source": []
  }
 ],
 "metadata": {
  "kernelspec": {
   "display_name": "Python 3 (ipykernel)",
   "language": "python",
   "name": "python3"
  },
  "language_info": {
   "codemirror_mode": {
    "name": "ipython",
    "version": 3
   },
   "file_extension": ".py",
   "mimetype": "text/x-python",
   "name": "python",
   "nbconvert_exporter": "python",
   "pygments_lexer": "ipython3",
   "version": "3.11.3"
  }
 },
 "nbformat": 4,
 "nbformat_minor": 5
}
